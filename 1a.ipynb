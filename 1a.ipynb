{
  "cells": [
    {
      "cell_type": "code",
      "execution_count": 1,
      "id": "34ab9114",
      "metadata": {
        "id": "34ab9114"
      },
      "outputs": [],
      "source": [
        "import numpy as np"
      ]
    },
    {
      "cell_type": "code",
      "execution_count": 2,
      "id": "02489bbc",
      "metadata": {
        "id": "02489bbc"
      },
      "outputs": [],
      "source": [
        "import matplotlib.pyplot as plt"
      ]
    },
    {
      "cell_type": "code",
      "execution_count": 3,
      "id": "bdb0f31f",
      "metadata": {
        "colab": {
          "base_uri": "https://localhost:8080/"
        },
        "id": "bdb0f31f",
        "outputId": "2285aaa2-4dff-467b-af54-510b53c2fe30"
      },
      "outputs": [
        {
          "data": {
            "text/plain": [
              "array([[-1, -1, -1],\n",
              "       [-1, -1,  1],\n",
              "       [-1,  1, -1],\n",
              "       [-1,  1,  1],\n",
              "       [ 1, -1, -1],\n",
              "       [ 1, -1,  1],\n",
              "       [ 1,  1, -1],\n",
              "       [ 1,  1,  1]])"
            ]
          },
          "execution_count": 3,
          "metadata": {},
          "output_type": "execute_result"
        }
      ],
      "source": [
        "input1=np.array(([-1,-1,-1],[-1,-1,1],[-1,1,-1],[-1,1,1],[1,-1,-1],[1,-1,1],[1,1,-1],[1,1,1]))\n",
        "input1"
      ]
    },
    {
      "cell_type": "code",
      "execution_count": 4,
      "id": "128ff3cd",
      "metadata": {
        "colab": {
          "base_uri": "https://localhost:8080/"
        },
        "id": "128ff3cd",
        "outputId": "2089fede-b14a-4a9e-a48b-722cebe672b8"
      },
      "outputs": [
        {
          "data": {
            "text/plain": [
              "array([-1, -1, -1, -1, -1, -1, -1,  1])"
            ]
          },
          "execution_count": 4,
          "metadata": {},
          "output_type": "execute_result"
        }
      ],
      "source": [
        "target=np.array((-1,-1,-1,-1,-1,-1,-1,1))\n",
        "target"
      ]
    },
    {
      "cell_type": "code",
      "execution_count": 5,
      "id": "ea548973",
      "metadata": {
        "colab": {
          "base_uri": "https://localhost:8080/"
        },
        "id": "ea548973",
        "outputId": "fa945d39-3582-4fae-efe9-28eb428e3d2d"
      },
      "outputs": [
        {
          "data": {
            "text/plain": [
              "array([-1, -1, -1,  1])"
            ]
          },
          "execution_count": 5,
          "metadata": {},
          "output_type": "execute_result"
        }
      ],
      "source": [
        "target2=np.array((-1,-1,-1,1))\n",
        "target2"
      ]
    },
    {
      "cell_type": "code",
      "execution_count": 8,
      "id": "ea9a5723",
      "metadata": {
        "id": "ea9a5723"
      },
      "outputs": [],
      "source": [
        "def neuron_training(input1,target,c,epoch):\n",
        "    Weights=np.random.randn(1,len(input1[0])+1)\n",
        "    print(f\"Randomly generated={Weights} \\n\")\n",
        "    c=0.1\n",
        "    Etotal=1\n",
        "    epoch=0\n",
        "    errors = []\n",
        "    while(Etotal>0):\n",
        "        Etotal=0\n",
        "        for i in range (len(input1)):\n",
        "          x=input1[i]\n",
        "          d=target[i] \n",
        "          new_input=np.append(input1[i],1)\n",
        "          net=np.dot(Weights,new_input)\n",
        "          y=np.sign(net)\n",
        "          E=0.5*(d-y)**2\n",
        "          \n",
        "          Etotal=Etotal+E\n",
        "          print(f\"Etotal={Etotal} \\n\")\n",
        "          errors.append(Etotal)\n",
        "          del_w=c*(d-y)*new_input\n",
        "          Weights=Weights+del_w\n",
        "          \n",
        "        epoch=epoch+1\n",
        "        print(f\"Epoch={epoch}\\n\") \n",
        "    print(f\"Weights={Weights}\\n\")\n",
        "    print(f\"Epoch={epoch}\\n\") \n",
        "\n",
        "   "
      ]
    },
    {
      "cell_type": "code",
      "execution_count": 9,
      "id": "jd3L9KlOepEZ",
      "metadata": {
        "colab": {
          "base_uri": "https://localhost:8080/"
        },
        "id": "jd3L9KlOepEZ",
        "outputId": "a9d39d30-010f-4a8f-c117-09af8b574e6a"
      },
      "outputs": [
        {
          "name": "stdout",
          "output_type": "stream",
          "text": [
            "Randomly generated=[[ 0.09687436 -0.83610312  0.40585346  1.41312315]] \n",
            "\n",
            "Etotal=[2.] \n",
            "\n",
            "Etotal=[4.] \n",
            "\n",
            "Etotal=[4.] \n",
            "\n",
            "Etotal=[6.] \n",
            "\n",
            "Etotal=[8.] \n",
            "\n",
            "Etotal=[10.] \n",
            "\n",
            "Etotal=[12.] \n",
            "\n",
            "Etotal=[12.] \n",
            "\n",
            "Epoch=1\n",
            "\n",
            "Etotal=[2.] \n",
            "\n",
            "Etotal=[4.] \n",
            "\n",
            "Etotal=[4.] \n",
            "\n",
            "Etotal=[4.] \n",
            "\n",
            "Etotal=[4.] \n",
            "\n",
            "Etotal=[6.] \n",
            "\n",
            "Etotal=[6.] \n",
            "\n",
            "Etotal=[6.] \n",
            "\n",
            "Epoch=2\n",
            "\n",
            "Etotal=[0.] \n",
            "\n",
            "Etotal=[0.] \n",
            "\n",
            "Etotal=[0.] \n",
            "\n",
            "Etotal=[0.] \n",
            "\n",
            "Etotal=[0.] \n",
            "\n",
            "Etotal=[0.] \n",
            "\n",
            "Etotal=[0.] \n",
            "\n",
            "Etotal=[0.] \n",
            "\n",
            "Epoch=3\n",
            "\n",
            "Weights=[[ 0.29687436  0.16389688  0.20585346 -0.38687685]]\n",
            "\n",
            "Epoch=3\n",
            "\n"
          ]
        }
      ],
      "source": [
        "eta = 0.1\n",
        "epochs = 20\n",
        "errors = neuron_training(input1, target, eta, epochs)\n",
        "\n"
      ]
    },
    {
      "cell_type": "code",
      "execution_count": 10,
      "id": "BU4UIwc8fzgQ",
      "metadata": {
        "colab": {
          "base_uri": "https://localhost:8080/",
          "height": 472
        },
        "id": "BU4UIwc8fzgQ",
        "outputId": "70712ed1-aa93-42cd-86f6-a5d4ded91ec5"
      },
      "outputs": [
        {
          "data": {
            "image/png": "[encoded data removed]",
            "text/plain": [
              "<Figure size 640x480 with 1 Axes>"
            ]
          },
          "metadata": {},
          "output_type": "display_data"
        }
      ],
      "source": [
        "import numpy as np\n",
        "import matplotlib.pyplot as plt\n",
        "\n",
        "def perceptron_learning(X, y, eta, epochs):\n",
        "\n",
        "    # Add a bias column to the input data\n",
        "    X = np.c_[X, np.ones(X.shape[0])]\n",
        "    \n",
        "    # Initialize the weights to zeros\n",
        "    w = np.zeros(X.shape[1])\n",
        "    \n",
        "    # Track the total errors for each epoch\n",
        "    errors = []\n",
        "    \n",
        "    # Train for the specified number of epochs\n",
        "    for epoch in range(epochs):\n",
        "        # Initialize the total error for this epoch\n",
        "        etotal = 0\n",
        "        \n",
        "        # Iterate over each data point\n",
        "        for i in range(X.shape[0]):\n",
        "            # Compute the predicted label\n",
        "            y_pred = np.sign(np.dot(X[i], w))\n",
        "            \n",
        "            # Update the weights if the prediction is incorrect\n",
        "            if y_pred != y[i]:\n",
        "                w += eta * y[i] * X[i]\n",
        "                etotal += 1\n",
        "        \n",
        "        # Store the total error for this epoch\n",
        "        errors.append(etotal)\n",
        "    \n",
        "    return errors\n",
        "\n",
        "# Generate a synthetic dataset\n",
        "X = np.random.randn(100, 2)\n",
        "y = np.sign(np.dot(X, [2, -1]) + 0.5)\n",
        "\n",
        "# Train the perceptron learning algorithm\n",
        "eta = 0.1\n",
        "epochs = 20\n",
        "errors = perceptron_learning(X, y, eta, epochs)\n",
        "\n",
        "# Plot the errors over time\n",
        "plt.plot(range(1, epochs+1), errors)\n",
        "plt.xlabel('Epoch')\n",
        "plt.ylabel('Total error')\n",
        "plt.title('Perceptron learning curve')\n",
        "plt.show()\n"
      ]
    },
    {
      "cell_type": "code",
      "execution_count": 11,
      "id": "ZQnTLwqof-BC",
      "metadata": {
        "colab": {
          "base_uri": "https://localhost:8080/"
        },
        "id": "ZQnTLwqof-BC",
        "outputId": "2bc8523a-3639-47bf-d8aa-6813af9850c5"
      },
      "outputs": [
        {
          "data": {
            "text/plain": [
              "array([ 1.,  1.,  1.,  1.,  1., -1., -1., -1., -1.,  1.,  1., -1., -1.,\n",
              "        1., -1.,  1.,  1.,  1.,  1.,  1.,  1., -1.,  1.,  1.,  1.,  1.,\n",
              "        1.,  1.,  1., -1., -1.,  1., -1., -1.,  1., -1., -1.,  1.,  1.,\n",
              "       -1.,  1., -1.,  1., -1.,  1.,  1., -1.,  1., -1.,  1., -1.,  1.,\n",
              "        1.,  1.,  1., -1.,  1.,  1.,  1., -1.,  1.,  1.,  1.,  1.,  1.,\n",
              "       -1.,  1., -1., -1.,  1.,  1., -1.,  1.,  1.,  1.,  1.,  1.,  1.,\n",
              "        1., -1.,  1.,  1.,  1.,  1., -1.,  1.,  1.,  1.,  1.,  1.,  1.,\n",
              "       -1.,  1.,  1., -1.,  1.,  1.,  1.,  1.,  1.])"
            ]
          },
          "execution_count": 11,
          "metadata": {},
          "output_type": "execute_result"
        }
      ],
      "source": [
        "y"
      ]
    },
    {
      "cell_type": "code",
      "execution_count": 12,
      "id": "ded77d3b",
      "metadata": {
        "colab": {
          "base_uri": "https://localhost:8080/"
        },
        "id": "ded77d3b",
        "outputId": "a0eb0674-33b3-4d27-f69d-9c43ab5552fa"
      },
      "outputs": [
        {
          "name": "stdout",
          "output_type": "stream",
          "text": [
            "Randomly generated=[[-0.30971128 -0.06113523 -0.92554266  0.71842018]] \n",
            "\n",
            "Etotal=[2.] \n",
            "\n",
            "Etotal=[2.] \n",
            "\n",
            "Etotal=[4.] \n",
            "\n",
            "Etotal=[4.] \n",
            "\n",
            "Etotal=[6.] \n",
            "\n",
            "Etotal=[6.] \n",
            "\n",
            "Etotal=[8.] \n",
            "\n",
            "Etotal=[10.] \n",
            "\n",
            "Epoch=1\n",
            "\n",
            "Etotal=[2.] \n",
            "\n",
            "Etotal=[2.] \n",
            "\n",
            "Etotal=[2.] \n",
            "\n",
            "Etotal=[4.] \n",
            "\n",
            "Etotal=[4.] \n",
            "\n",
            "Etotal=[4.] \n",
            "\n",
            "Etotal=[6.] \n",
            "\n",
            "Etotal=[8.] \n",
            "\n",
            "Epoch=2\n",
            "\n",
            "Etotal=[0.] \n",
            "\n",
            "Etotal=[0.] \n",
            "\n",
            "Etotal=[0.] \n",
            "\n",
            "Etotal=[2.] \n",
            "\n",
            "Etotal=[2.] \n",
            "\n",
            "Etotal=[4.] \n",
            "\n",
            "Etotal=[4.] \n",
            "\n",
            "Etotal=[6.] \n",
            "\n",
            "Epoch=3\n",
            "\n",
            "Etotal=[0.] \n",
            "\n",
            "Etotal=[0.] \n",
            "\n",
            "Etotal=[0.] \n",
            "\n",
            "Etotal=[0.] \n",
            "\n",
            "Etotal=[0.] \n",
            "\n",
            "Etotal=[0.] \n",
            "\n",
            "Etotal=[2.] \n",
            "\n",
            "Etotal=[2.] \n",
            "\n",
            "Epoch=4\n",
            "\n",
            "Etotal=[0.] \n",
            "\n",
            "Etotal=[0.] \n",
            "\n",
            "Etotal=[0.] \n",
            "\n",
            "Etotal=[0.] \n",
            "\n",
            "Etotal=[0.] \n",
            "\n",
            "Etotal=[0.] \n",
            "\n",
            "Etotal=[0.] \n",
            "\n",
            "Etotal=[0.] \n",
            "\n",
            "Epoch=5\n",
            "\n",
            "Weights=[[ 0.29028872  0.13886477  0.47445734 -0.68157982]]\n",
            "\n",
            "Epoch=5\n",
            "\n"
          ]
        }
      ],
      "source": [
        "neuron_training(input1,target,0.1,20)"
      ]
    },
    {
      "cell_type": "code",
      "execution_count": 13,
      "id": "0de29f2b",
      "metadata": {
        "colab": {
          "base_uri": "https://localhost:8080/"
        },
        "id": "0de29f2b",
        "outputId": "55442b6a-3d2a-4bd1-fb1d-acf44fdf557c"
      },
      "outputs": [
        {
          "data": {
            "text/plain": [
              "array([[-1, -1],\n",
              "       [-1,  1],\n",
              "       [ 1, -1],\n",
              "       [ 1,  1]])"
            ]
          },
          "execution_count": 13,
          "metadata": {},
          "output_type": "execute_result"
        }
      ],
      "source": [
        "input2=np.array(([-1,-1],[-1,1],[1,-1],[1,1]))\n",
        "input2"
      ]
    },
    {
      "cell_type": "code",
      "execution_count": 15,
      "id": "2ff1c472",
      "metadata": {
        "id": "2ff1c472"
      },
      "outputs": [],
      "source": [
        "Weights=np.random.randn(1,4)"
      ]
    },
    {
      "cell_type": "code",
      "execution_count": 16,
      "id": "02302a06",
      "metadata": {
        "colab": {
          "base_uri": "https://localhost:8080/"
        },
        "id": "02302a06",
        "outputId": "4121d4d4-4e5f-433c-95b5-9d5986ae594e"
      },
      "outputs": [
        {
          "data": {
            "text/plain": [
              "array([[ 1.17972217, -0.4295923 ,  0.28192001,  0.82330012]])"
            ]
          },
          "execution_count": 16,
          "metadata": {},
          "output_type": "execute_result"
        }
      ],
      "source": [
        "\n",
        "Weights"
      ]
    },
    {
      "cell_type": "code",
      "execution_count": 17,
      "id": "d6b0e850",
      "metadata": {
        "id": "d6b0e850"
      },
      "outputs": [],
      "source": [
        "a=-6"
      ]
    },
    {
      "cell_type": "code",
      "execution_count": 18,
      "id": "34b995df",
      "metadata": {
        "id": "34b995df"
      },
      "outputs": [],
      "source": [
        "y=np.sign(a)"
      ]
    },
    {
      "cell_type": "code",
      "execution_count": 19,
      "id": "1fa42712",
      "metadata": {
        "colab": {
          "base_uri": "https://localhost:8080/"
        },
        "id": "1fa42712",
        "outputId": "085c9184-9444-4c0c-a98f-c80464fcadf9"
      },
      "outputs": [
        {
          "data": {
            "text/plain": [
              "-1"
            ]
          },
          "execution_count": 19,
          "metadata": {},
          "output_type": "execute_result"
        }
      ],
      "source": [
        "y"
      ]
    },
    {
      "cell_type": "code",
      "execution_count": 21,
      "id": "e57c706a",
      "metadata": {
        "id": "e57c706a"
      },
      "outputs": [],
      "source": [
        "import itertools\n",
        "x = list(itertools.product([1, -1], repeat=2))"
      ]
    },
    {
      "cell_type": "code",
      "execution_count": 22,
      "id": "fEPT45ygLQku",
      "metadata": {
        "colab": {
          "base_uri": "https://localhost:8080/"
        },
        "id": "fEPT45ygLQku",
        "outputId": "49ebf903-a615-4861-af4a-51b8883947d7"
      },
      "outputs": [
        {
          "data": {
            "text/plain": [
              "4"
            ]
          },
          "execution_count": 22,
          "metadata": {},
          "output_type": "execute_result"
        }
      ],
      "source": [
        "len(x)"
      ]
    },
    {
      "cell_type": "code",
      "execution_count": 23,
      "id": "Y4HPnascT6B-",
      "metadata": {
        "colab": {
          "base_uri": "https://localhost:8080/"
        },
        "id": "Y4HPnascT6B-",
        "outputId": "93211c91-fb46-4e2b-cd22-a0b5140ce885"
      },
      "outputs": [
        {
          "data": {
            "text/plain": [
              "[(1, 1), (1, -1), (-1, 1), (-1, -1)]"
            ]
          },
          "execution_count": 23,
          "metadata": {},
          "output_type": "execute_result"
        }
      ],
      "source": [
        "x"
      ]
    },
    {
      "cell_type": "code",
      "execution_count": 24,
      "id": "79A7dCCULWHq",
      "metadata": {
        "id": "79A7dCCULWHq"
      },
      "outputs": [],
      "source": [
        "arr_2d = []\n",
        "for i in [1, -1]:\n",
        "    for j in [1, -1]:\n",
        "        arr_2d.append([i, j])"
      ]
    },
    {
      "cell_type": "code",
      "execution_count": 25,
      "id": "LiKRyvJ-N-4M",
      "metadata": {
        "id": "LiKRyvJ-N-4M"
      },
      "outputs": [],
      "source": [
        "y=np.random.permutation([x])"
      ]
    },
    {
      "cell_type": "code",
      "execution_count": 26,
      "id": "9IOY-T3AP4te",
      "metadata": {
        "colab": {
          "base_uri": "https://localhost:8080/"
        },
        "id": "9IOY-T3AP4te",
        "outputId": "052d90f6-757f-405f-c3fe-c97b20c4b57e"
      },
      "outputs": [
        {
          "data": {
            "text/plain": [
              "array([[[ 1,  1],\n",
              "        [ 1, -1],\n",
              "        [-1,  1],\n",
              "        [-1, -1]]])"
            ]
          },
          "execution_count": 26,
          "metadata": {},
          "output_type": "execute_result"
        }
      ],
      "source": [
        "y"
      ]
    },
    {
      "cell_type": "code",
      "execution_count": 29,
      "id": "td61f7Y6MVlt",
      "metadata": {
        "colab": {
          "base_uri": "https://localhost:8080/"
        },
        "id": "td61f7Y6MVlt",
        "outputId": "8bcdcbf0-8bd6-4b7f-9c26-16831d5af85d"
      },
      "outputs": [
        {
          "data": {
            "text/plain": [
              "[[1, 1], [1, -1], [-1, 1], [-1, -1]]"
            ]
          },
          "execution_count": 29,
          "metadata": {},
          "output_type": "execute_result"
        }
      ],
      "source": [
        "arr_2d "
      ]
    },
    {
      "cell_type": "code",
      "execution_count": 30,
      "id": "kgLUWj8PNwPO",
      "metadata": {
        "colab": {
          "base_uri": "https://localhost:8080/"
        },
        "id": "kgLUWj8PNwPO",
        "outputId": "30286500-fb23-4d00-9aad-7eba06ef9259"
      },
      "outputs": [
        {
          "name": "stdout",
          "output_type": "stream",
          "text": [
            "4\n"
          ]
        },
        {
          "data": {
            "text/plain": [
              "[(1, 1), (1, -1), (-1, 1), (-1, -1)]"
            ]
          },
          "execution_count": 30,
          "metadata": {},
          "output_type": "execute_result"
        }
      ],
      "source": [
        "import itertools\n",
        "\n",
        "# Generate all possible input combinations for a 2-input OR gate\n",
        "inputs = list(itertools.product([1, -1], repeat=2))\n",
        "\n",
        "# Calculate the number of combinations\n",
        "num_combinations = len(inputs)\n",
        "\n",
        "print(num_combinations)  # Output: 4\n",
        "inputs"
      ]
    },
    {
      "cell_type": "code",
      "execution_count": 31,
      "id": "oksi7Nx-baeV",
      "metadata": {
        "id": "oksi7Nx-baeV"
      },
      "outputs": [],
      "source": [
        "data_points = np.array([[-1, -1, -1], [-1, -1, 1], [-1, 1, -1], [-1, 1, 1],\n",
        "                        [1, -1, -1], [1, -1, 1], [1, 1, -1], [1, 1, 1]])\n",
        "\n",
        "# Define the binary classification labels\n",
        "labels = np.array([-1, -1, -1, -1, 1, 1, 1, 1])\n",
        "\n",
        "# Find all possible pairs of data points\n",
        "data_pairs = [(data_points[i], data_points[j]) for i in range(len(data_points)) for j in range(i + 1, len(data_points))]"
      ]
    },
    {
      "cell_type": "code",
      "execution_count": 32,
      "id": "1VqC-E0pcjeg",
      "metadata": {
        "colab": {
          "base_uri": "https://localhost:8080/"
        },
        "id": "1VqC-E0pcjeg",
        "outputId": "526f0760-8d5c-4f2b-d77f-872dee296f3a"
      },
      "outputs": [
        {
          "data": {
            "text/plain": [
              "[(array([-1, -1, -1]), array([-1, -1,  1])),\n",
              " (array([-1, -1, -1]), array([-1,  1, -1])),\n",
              " (array([-1, -1, -1]), array([-1,  1,  1])),\n",
              " (array([-1, -1, -1]), array([ 1, -1, -1])),\n",
              " (array([-1, -1, -1]), array([ 1, -1,  1])),\n",
              " (array([-1, -1, -1]), array([ 1,  1, -1])),\n",
              " (array([-1, -1, -1]), array([1, 1, 1])),\n",
              " (array([-1, -1,  1]), array([-1,  1, -1])),\n",
              " (array([-1, -1,  1]), array([-1,  1,  1])),\n",
              " (array([-1, -1,  1]), array([ 1, -1, -1])),\n",
              " (array([-1, -1,  1]), array([ 1, -1,  1])),\n",
              " (array([-1, -1,  1]), array([ 1,  1, -1])),\n",
              " (array([-1, -1,  1]), array([1, 1, 1])),\n",
              " (array([-1,  1, -1]), array([-1,  1,  1])),\n",
              " (array([-1,  1, -1]), array([ 1, -1, -1])),\n",
              " (array([-1,  1, -1]), array([ 1, -1,  1])),\n",
              " (array([-1,  1, -1]), array([ 1,  1, -1])),\n",
              " (array([-1,  1, -1]), array([1, 1, 1])),\n",
              " (array([-1,  1,  1]), array([ 1, -1, -1])),\n",
              " (array([-1,  1,  1]), array([ 1, -1,  1])),\n",
              " (array([-1,  1,  1]), array([ 1,  1, -1])),\n",
              " (array([-1,  1,  1]), array([1, 1, 1])),\n",
              " (array([ 1, -1, -1]), array([ 1, -1,  1])),\n",
              " (array([ 1, -1, -1]), array([ 1,  1, -1])),\n",
              " (array([ 1, -1, -1]), array([1, 1, 1])),\n",
              " (array([ 1, -1,  1]), array([ 1,  1, -1])),\n",
              " (array([ 1, -1,  1]), array([1, 1, 1])),\n",
              " (array([ 1,  1, -1]), array([1, 1, 1]))]"
            ]
          },
          "execution_count": 32,
          "metadata": {},
          "output_type": "execute_result"
        }
      ],
      "source": [
        "data_pairs"
      ]
    },
    {
      "cell_type": "code",
      "execution_count": null,
      "id": "xu49-JrYVq7F",
      "metadata": {
        "id": "xu49-JrYVq7F"
      },
      "outputs": [],
      "source": []
    }
  ],
  "metadata": {
    "colab": {
      "provenance": []
    },
    "kernelspec": {
      "display_name": "Python 3 (ipykernel)",
      "language": "python",
      "name": "python3"
    },
    "language_info": {
      "codemirror_mode": {
        "name": "ipython",
        "version": 3
      },
      "file_extension": ".py",
      "mimetype": "text/x-python",
      "name": "python",
      "nbconvert_exporter": "python",
      "pygments_lexer": "ipython3",
      "version": "3.9.7"
    }
  },
  "nbformat": 4,
  "nbformat_minor": 5
}
