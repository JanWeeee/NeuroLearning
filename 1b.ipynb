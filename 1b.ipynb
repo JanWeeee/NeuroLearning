{
  "cells": [
    {
      "cell_type": "code",
      "execution_count": 1,
      "metadata": {
        "id": "c9YSvaAdYxS2"
      },
      "outputs": [],
      "source": [
        "import numpy as np"
      ]
    },
    {
      "cell_type": "code",
      "execution_count": 2,
      "metadata": {
        "id": "EN7ldutCwlPj"
      },
      "outputs": [],
      "source": [
        "import math"
      ]
    },
    {
      "cell_type": "code",
      "execution_count": 3,
      "metadata": {
        "id": "wUd3cJP9ZMAM"
      },
      "outputs": [],
      "source": [
        "def neuron(input,target):\n",
        "  c=0.1\n",
        "  global epoch\n",
        "  epoch=0\n",
        "  w=np.random.rand(int(math.sqrt(len(input)))+1)\n",
        "  Etotal=1\n",
        "  while (Etotal>0 and epoch<100):\n",
        "    Etotal=0\n",
        "    epoch+=1\n",
        "    for i in range(len(input)):\n",
        "      net=np.dot(w,input[i])\n",
        "      y=np.sign(net)\n",
        "      e=0.5*((y-target[i])**2)\n",
        "      Etotal+=e\n",
        "      deltaw=np.dot(c*(target[i]-y),input[i])\n",
        "      w+=deltaw\n",
        "  #print(w)\n",
        "  return epoch\n",
        "  \n"
      ]
    },
    {
      "cell_type": "code",
      "execution_count": 4,
      "metadata": {
        "id": "pDESHtHukHT7"
      },
      "outputs": [],
      "source": [
        "def islinearlyseperable(input,target):\n",
        "  epoch1=neuron(input,target)\n",
        "  #print(\"Epoch : \",epoch1)\n",
        "  if epoch1==100:\n",
        "    #print(\"Not Linearly Seperable\")\n",
        "    return 0\n",
        "  else:\n",
        "    #print(\"Linearly Seperable\")\n",
        "    return 1"
      ]
    },
    {
      "cell_type": "code",
      "execution_count": 5,
      "metadata": {
        "id": "p_kCxxFsuC3j"
      },
      "outputs": [],
      "source": [
        "input=np.array([(-1,-1,1),(-1,1,1),(1,-1,1),(1,1,1)])\n",
        "target=[1,-1,-1,1]"
      ]
    },
    {
      "cell_type": "code",
      "execution_count": 6,
      "metadata": {
        "id": "vvWW2nxHvawS"
      },
      "outputs": [],
      "source": [
        "def NumberOfLinearlySeperable(input,target):\n",
        "  total=len(target)\n",
        "  Ls=0\n",
        "  for i in range(total):\n",
        "    #print(target[i])\n",
        "    if islinearlyseperable(input,target[i])==1:\n",
        "      Ls+=1\n",
        "    \n",
        "  print(\"Total number of Linearly Seperable : \",Ls)\n",
        "  print(\"Total number of Non Linearly Seperable : \",total-Ls)\n",
        "  print(\"percentage of Linearly Seperable : \",Ls/total*100)\n",
        "  \n"
      ]
    },
    {
      "cell_type": "code",
      "execution_count": 7,
      "metadata": {
        "id": "Xpol4Eg4zuAt"
      },
      "outputs": [],
      "source": [
        "a=list()\n",
        "for i in range (-1,2,2):\n",
        "  for j in range(-1,2,2):\n",
        "    for k in range(-1,2,2):\n",
        "      for l in range(-1,2,2):\n",
        "        a.append([i,j,k,l])"
      ]
    },
    {
      "cell_type": "code",
      "execution_count": 8,
      "metadata": {
        "id": "gqDKbMg11z7k"
      },
      "outputs": [],
      "source": [
        "tar1=np.array(a)"
      ]
    },
    {
      "cell_type": "code",
      "execution_count": 9,
      "metadata": {
        "colab": {
          "base_uri": "https://localhost:8080/"
        },
        "id": "AU_j6evu7gTm",
        "outputId": "e8ba78df-b917-4183-f305-7023d0ff3cae"
      },
      "outputs": [
        {
          "data": {
            "text/plain": [
              "array([[-1, -1, -1, -1],\n",
              "       [-1, -1, -1,  1],\n",
              "       [-1, -1,  1, -1],\n",
              "       [-1, -1,  1,  1],\n",
              "       [-1,  1, -1, -1],\n",
              "       [-1,  1, -1,  1],\n",
              "       [-1,  1,  1, -1],\n",
              "       [-1,  1,  1,  1],\n",
              "       [ 1, -1, -1, -1],\n",
              "       [ 1, -1, -1,  1],\n",
              "       [ 1, -1,  1, -1],\n",
              "       [ 1, -1,  1,  1],\n",
              "       [ 1,  1, -1, -1],\n",
              "       [ 1,  1, -1,  1],\n",
              "       [ 1,  1,  1, -1],\n",
              "       [ 1,  1,  1,  1]])"
            ]
          },
          "execution_count": 9,
          "metadata": {},
          "output_type": "execute_result"
        }
      ],
      "source": [
        "tar1"
      ]
    },
    {
      "cell_type": "code",
      "execution_count": 10,
      "metadata": {
        "colab": {
          "base_uri": "https://localhost:8080/"
        },
        "id": "OcPTiop02bMm",
        "outputId": "fe824055-f250-4515-9629-aa27d0386287"
      },
      "outputs": [
        {
          "name": "stdout",
          "output_type": "stream",
          "text": [
            "Total number of Linearly Seperable :  14\n",
            "Total number of Non Linearly Seperable :  2\n",
            "percentage of Linearly Seperable :  87.5\n"
          ]
        }
      ],
      "source": [
        "NumberOfLinearlySeperable(input,tar1)"
      ]
    },
    {
      "cell_type": "code",
      "execution_count": null,
      "metadata": {
        "id": "P6KLrLjK2cr9"
      },
      "outputs": [],
      "source": []
    }
  ],
  "metadata": {
    "colab": {
      "provenance": []
    },
    "kernelspec": {
      "display_name": "Python 3",
      "name": "python3"
    },
    "language_info": {
      "codemirror_mode": {
        "name": "ipython",
        "version": 3
      },
      "file_extension": ".py",
      "mimetype": "text/x-python",
      "name": "python",
      "nbconvert_exporter": "python",
      "pygments_lexer": "ipython3",
      "version": "3.10.7"
    }
  },
  "nbformat": 4,
  "nbformat_minor": 0
}
